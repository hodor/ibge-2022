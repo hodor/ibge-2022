{
 "cells": [
  {
   "cell_type": "code",
   "id": "initial_id",
   "metadata": {
    "collapsed": true,
    "ExecuteTime": {
     "end_time": "2024-11-29T17:35:43.940234Z",
     "start_time": "2024-11-29T17:35:43.937395Z"
    }
   },
   "source": [
    "import pandas as pd\n",
    "import chardet\n",
    "import numpy as np"
   ],
   "outputs": [],
   "execution_count": 40
  },
  {
   "metadata": {},
   "cell_type": "markdown",
   "source": "IBGE files has a different encoding a different separator. So we're making a function to load them",
   "id": "4a1c6b33ca225784"
  },
  {
   "metadata": {
    "ExecuteTime": {
     "end_time": "2024-11-29T17:35:43.958075Z",
     "start_time": "2024-11-29T17:35:43.943261Z"
    }
   },
   "cell_type": "code",
   "source": [
    "def load_path_from_ibge_auto_encoding(path):\n",
    "    # First we need to detect the encoding\n",
    "    with open(path, 'rb') as f:\n",
    "        result = chardet.detect(f.read())\n",
    "        encoding = result['encoding']\n",
    "        print(f\"Will load {path} with encoding {encoding}\")\n",
    "    return pd.read_csv(path, encoding=encoding, sep=';')"
   ],
   "id": "b6d0d0696b4ec748",
   "outputs": [],
   "execution_count": 41
  },
  {
   "metadata": {},
   "cell_type": "markdown",
   "source": [
    "We ran these functions and we know that the encoding is `Windows-1252`\n",
    "\n",
    "From the dictionary:\n",
    "```\n",
    "Pessoas\tDemografia\tV01031\t0 a 4 anos\n",
    "Pessoas\tDemografia\tV01032\t5 a 9 anos\n",
    "Pessoas\tDemografia\tV01033\t10 a 14 anos\n",
    "Pessoas\tDemografia\tV01034\t15 a 19 anos\n",
    "Pessoas\tDemografia\tV01035\t20 a 24 anos\n",
    "Pessoas\tDemografia\tV01036\t25 a 29 anos\n",
    "Pessoas\tDemografia\tV01037\t30 a 39 anos\n",
    "Pessoas\tDemografia\tV01038\t40 a 49 anos\n",
    "Pessoas\tDemografia\tV01039\t50 a 59 anos\n",
    "Pessoas\tDemografia\tV01040\t60 a 69 anos\n",
    "Pessoas\tDemografia\tV01041\t70 anos ou mais\n",
    "```\n",
    "\n",
    "```\n",
    "Pessoas\tAlfabetização\tV00644\t15 a 19 anos\n",
    "Pessoas\tAlfabetização\tV00645\t20 a 24 anos\n",
    "Pessoas\tAlfabetização\tV00646\t25 a 29 anos\n",
    "Pessoas\tAlfabetização\tV00647\t30 a 34 anos\n",
    "Pessoas\tAlfabetização\tV00648\t35 a 39 anos\n",
    "Pessoas\tAlfabetização\tV00649\t40 a 44 anos\n",
    "Pessoas\tAlfabetização\tV00650\t45 a 49 anos\n",
    "Pessoas\tAlfabetização\tV00651\t50 a 54 anos\n",
    "Pessoas\tAlfabetização\tV00652\t55 a 59 anos\n",
    "Pessoas\tAlfabetização\tV00653\t60 a 64 anos\n",
    "Pessoas\tAlfabetização\tV00654\t65 a 69 anos\n",
    "Pessoas\tAlfabetização\tV00655\t70 a 79 anos\n",
    "Pessoas\tAlfabetização\tV00656\t80 anos ou mais\n",
    "\n",
    "Pessoas\tAlfabetização\tV00748\tPessoas alfabetizadas, 15 a 19 anos\n",
    "Pessoas\tAlfabetização\tV00749\tPessoas alfabetizadas, 20 a 24 anos\n",
    "Pessoas\tAlfabetização\tV00750\tPessoas alfabetizadas, 25 a 29 anos\n",
    "Pessoas\tAlfabetização\tV00751\tPessoas alfabetizadas, 30 a 34 anos\n",
    "Pessoas\tAlfabetização\tV00752\tPessoas alfabetizadas, 35 a 39 anos\n",
    "Pessoas\tAlfabetização\tV00753\tPessoas alfabetizadas, 40 a 44 anos\n",
    "Pessoas\tAlfabetização\tV00754\tPessoas alfabetizadas, 45 a 49 anos\n",
    "Pessoas\tAlfabetização\tV00755\tPessoas alfabetizadas, 50 a 54 anos\n",
    "Pessoas\tAlfabetização\tV00756\tPessoas alfabetizadas, 55 a 59 anos\n",
    "Pessoas\tAlfabetização\tV00757\tPessoas alfabetizadas, 60 a 64 anos\n",
    "Pessoas\tAlfabetização\tV00758\tPessoas alfabetizadas, 65 a 69 anos\n",
    "Pessoas\tAlfabetização\tV00759\tPessoas alfabetizadas, 70 a 79 anos\n",
    "Pessoas\tAlfabetização\tV00760\tPessoas alfabetizadas, 80 anos ou mais\n",
    "```"
   ],
   "id": "8e40542955c5ca63"
  },
  {
   "metadata": {
    "ExecuteTime": {
     "end_time": "2024-11-29T17:39:48.610790Z",
     "start_time": "2024-11-29T17:39:45.093096Z"
    }
   },
   "cell_type": "code",
   "source": [
    "def get_education_df(path, id_col, name_col):\n",
    "    df = pd.read_csv(path, encoding='Windows-1252', sep=';', low_memory=False)\n",
    "    \n",
    "    # List of columns to convert from string to float\n",
    "    columns_to_convert = [\n",
    "        'V00748', 'V00644', 'V00749', 'V00645', 'V00750', 'V00646', \n",
    "        'V00751', 'V00647', 'V00752', 'V00648', 'V00753', 'V00649',\n",
    "        'V00754', 'V00650', 'V00755', 'V00651', 'V00756', 'V00652',\n",
    "        'V00757', 'V00653', 'V00758', 'V00654', 'V00759', 'V00655', \n",
    "        'V00760', 'V00656'\n",
    "    ]\n",
    "    \n",
    "    # We're going to clean all columns except the first two\n",
    "    exclude_columns = [id_col, name_col]\n",
    "    columns_to_clean = df.columns.difference(exclude_columns)\n",
    "    \n",
    "    # Replace '.' with NaN only in the specified columns\n",
    "    df[columns_to_clean] = df[columns_to_clean].replace('.', np.nan)\n",
    "    \n",
    "    # Convert the specified columns to numeric, coercing errors to NaN\n",
    "    df[columns_to_clean] = df[columns_to_clean].apply(pd.to_numeric, errors='coerce')\n",
    "    \n",
    "    # Drop rows where any of the specified columns have NaN values\n",
    "    df = df.dropna(subset=columns_to_clean)\n",
    "    \n",
    "    # Convert the specified columns to float type\n",
    "    df[columns_to_convert] = df[columns_to_convert].astype(float)\n",
    "    \n",
    "    # Doing this weird replacement to ensure that if we're dividing by zero, that is, total pop is 0, then we just fill it with nan and replace the whole thing with 0\n",
    "    df['perc alfa 15 a 19'] =  df['V00748'].divide(df['V00644'].replace(0, np.nan)).fillna(0)  \n",
    "    df['perc alfa 20 a 24'] =  df['V00749'].divide(df['V00645'].replace(0, np.nan)).fillna(0)   \n",
    "    df['perc alfa 25 a 29'] =  df['V00750'].divide(df['V00646'].replace(0, np.nan)).fillna(0)  \n",
    "    df['perc alfa 30 a 34'] =  df['V00751'].divide(df['V00647'].replace(0, np.nan)).fillna(0)  \n",
    "    df['perc alfa 35 a 39'] =  df['V00752'].divide(df['V00648'].replace(0, np.nan)).fillna(0)  \n",
    "    df['perc alfa 40 a 44'] =  df['V00753'].divide(df['V00649'].replace(0, np.nan)).fillna(0) \n",
    "    df['perc alfa 45 a 49'] =  df['V00754'].divide(df['V00650'].replace(0, np.nan)).fillna(0)  \n",
    "    df['perc alfa 50 a 54'] =  df['V00755'].divide(df['V00651'].replace(0, np.nan)).fillna(0)  \n",
    "    df['perc alfa 55 a 59'] =  df['V00756'].divide(df['V00652'].replace(0, np.nan)).fillna(0)  \n",
    "    df['perc alfa 60 a 64'] =  df['V00757'].divide(df['V00653'].replace(0, np.nan)).fillna(0)  \n",
    "    df['perc alfa 65 a 69'] =  df['V00758'].divide(df['V00654'].replace(0, np.nan)).fillna(0)  \n",
    "    df['perc alfa 70 a 79'] =  df['V00759'].divide(df['V00655'].replace(0, np.nan)).fillna(0)  \n",
    "    df['perc alfa 80+']     =  df['V00760'].divide(df['V00656'].replace(0, np.nan)).fillna(0)\n",
    "    df['perc alfa mean'] = df[['perc alfa 15 a 19', 'perc alfa 20 a 24', 'perc alfa 25 a 29', \n",
    "                                                 'perc alfa 30 a 34', 'perc alfa 35 a 39', 'perc alfa 40 a 44', \n",
    "                                                 'perc alfa 45 a 49', 'perc alfa 50 a 54', 'perc alfa 55 a 59', \n",
    "                                                 'perc alfa 60 a 64', 'perc alfa 65 a 69', 'perc alfa 70 a 79', \n",
    "                                                 'perc alfa 80+']].mean(axis=1)\n",
    "    df['total pop'] = df['V00644'] + df['V00645'] + df['V00646'] + df['V00647'] + df['V00648'] + df['V00649'] + df['V00650'] + df['V00651'] + df['V00652'] + df['V00653'] + df['V00654'] + df['V00655'] + df['V00656']\n",
    "    \n",
    "    result = df[[id_col, name_col, 'perc alfa mean', 'total pop',\n",
    "                         'perc alfa 15 a 19', 'perc alfa 20 a 24', 'perc alfa 25 a 29', \n",
    "                         'perc alfa 30 a 34', 'perc alfa 35 a 39', 'perc alfa 40 a 44', \n",
    "                         'perc alfa 45 a 49', 'perc alfa 50 a 54', 'perc alfa 55 a 59', \n",
    "                         'perc alfa 60 a 64', 'perc alfa 65 a 69', 'perc alfa 70 a 79', \n",
    "                         'perc alfa 80+', \n",
    "                         'V00748', 'V00749','V00750','V00751','V00752','V00753','V00754',\n",
    "                         'V00755','V00756','V00757','V00758','V00759','V00760','V00644',\n",
    "                         'V00645','V00646','V00647','V00648','V00649','V00650','V00651',\n",
    "                         'V00652','V00653','V00654','V00655','V00656']]\n",
    "    result_sorted = result.sort_values(by='perc alfa mean', ascending=False)\n",
    "    return result_sorted\n",
    "        \n",
    "district_df = get_education_df(\"../data/Censos/Censo_Demografico_2022/Agregados_por_Setores_Censitarios/Agregados_por_Distrito_csv/Agregados_por_distritos_alfabetizacao_BR.csv\", \"CD_DIST\", \"NM_DIST\")\n",
    "city_df = get_education_df(\"../data/Censos/Censo_Demografico_2022/Agregados_por_Setores_Censitarios/Agregados_por_Municipio_csv/Agregados_por_municipios_alfabetizacao_BR.csv\", \"CD_MUN\", \"NM_MUN\")\n",
    "district_df.to_csv(\"education_district.csv\", index=False)\n",
    "city_df.to_csv(\"education_city.csv\", index=False)"
   ],
   "id": "b0fc17be9e9536b0",
   "outputs": [
    {
     "name": "stderr",
     "output_type": "stream",
     "text": [
      "C:\\Users\\rgasi\\AppData\\Local\\Temp\\ipykernel_40488\\271949840.py:30: PerformanceWarning: DataFrame is highly fragmented.  This is usually the result of calling `frame.insert` many times, which has poor performance.  Consider joining all columns at once using pd.concat(axis=1) instead. To get a de-fragmented frame, use `newframe = frame.copy()`\n",
      "  df['perc alfa 15 a 19'] =  df['V00748'].divide(df['V00644'].replace(0, np.nan)).fillna(0)\n",
      "C:\\Users\\rgasi\\AppData\\Local\\Temp\\ipykernel_40488\\271949840.py:31: PerformanceWarning: DataFrame is highly fragmented.  This is usually the result of calling `frame.insert` many times, which has poor performance.  Consider joining all columns at once using pd.concat(axis=1) instead. To get a de-fragmented frame, use `newframe = frame.copy()`\n",
      "  df['perc alfa 20 a 24'] =  df['V00749'].divide(df['V00645'].replace(0, np.nan)).fillna(0)\n",
      "C:\\Users\\rgasi\\AppData\\Local\\Temp\\ipykernel_40488\\271949840.py:32: PerformanceWarning: DataFrame is highly fragmented.  This is usually the result of calling `frame.insert` many times, which has poor performance.  Consider joining all columns at once using pd.concat(axis=1) instead. To get a de-fragmented frame, use `newframe = frame.copy()`\n",
      "  df['perc alfa 25 a 29'] =  df['V00750'].divide(df['V00646'].replace(0, np.nan)).fillna(0)\n",
      "C:\\Users\\rgasi\\AppData\\Local\\Temp\\ipykernel_40488\\271949840.py:33: PerformanceWarning: DataFrame is highly fragmented.  This is usually the result of calling `frame.insert` many times, which has poor performance.  Consider joining all columns at once using pd.concat(axis=1) instead. To get a de-fragmented frame, use `newframe = frame.copy()`\n",
      "  df['perc alfa 30 a 34'] =  df['V00751'].divide(df['V00647'].replace(0, np.nan)).fillna(0)\n",
      "C:\\Users\\rgasi\\AppData\\Local\\Temp\\ipykernel_40488\\271949840.py:34: PerformanceWarning: DataFrame is highly fragmented.  This is usually the result of calling `frame.insert` many times, which has poor performance.  Consider joining all columns at once using pd.concat(axis=1) instead. To get a de-fragmented frame, use `newframe = frame.copy()`\n",
      "  df['perc alfa 35 a 39'] =  df['V00752'].divide(df['V00648'].replace(0, np.nan)).fillna(0)\n",
      "C:\\Users\\rgasi\\AppData\\Local\\Temp\\ipykernel_40488\\271949840.py:35: PerformanceWarning: DataFrame is highly fragmented.  This is usually the result of calling `frame.insert` many times, which has poor performance.  Consider joining all columns at once using pd.concat(axis=1) instead. To get a de-fragmented frame, use `newframe = frame.copy()`\n",
      "  df['perc alfa 40 a 44'] =  df['V00753'].divide(df['V00649'].replace(0, np.nan)).fillna(0)\n",
      "C:\\Users\\rgasi\\AppData\\Local\\Temp\\ipykernel_40488\\271949840.py:36: PerformanceWarning: DataFrame is highly fragmented.  This is usually the result of calling `frame.insert` many times, which has poor performance.  Consider joining all columns at once using pd.concat(axis=1) instead. To get a de-fragmented frame, use `newframe = frame.copy()`\n",
      "  df['perc alfa 45 a 49'] =  df['V00754'].divide(df['V00650'].replace(0, np.nan)).fillna(0)\n",
      "C:\\Users\\rgasi\\AppData\\Local\\Temp\\ipykernel_40488\\271949840.py:37: PerformanceWarning: DataFrame is highly fragmented.  This is usually the result of calling `frame.insert` many times, which has poor performance.  Consider joining all columns at once using pd.concat(axis=1) instead. To get a de-fragmented frame, use `newframe = frame.copy()`\n",
      "  df['perc alfa 50 a 54'] =  df['V00755'].divide(df['V00651'].replace(0, np.nan)).fillna(0)\n",
      "C:\\Users\\rgasi\\AppData\\Local\\Temp\\ipykernel_40488\\271949840.py:38: PerformanceWarning: DataFrame is highly fragmented.  This is usually the result of calling `frame.insert` many times, which has poor performance.  Consider joining all columns at once using pd.concat(axis=1) instead. To get a de-fragmented frame, use `newframe = frame.copy()`\n",
      "  df['perc alfa 55 a 59'] =  df['V00756'].divide(df['V00652'].replace(0, np.nan)).fillna(0)\n",
      "C:\\Users\\rgasi\\AppData\\Local\\Temp\\ipykernel_40488\\271949840.py:39: PerformanceWarning: DataFrame is highly fragmented.  This is usually the result of calling `frame.insert` many times, which has poor performance.  Consider joining all columns at once using pd.concat(axis=1) instead. To get a de-fragmented frame, use `newframe = frame.copy()`\n",
      "  df['perc alfa 60 a 64'] =  df['V00757'].divide(df['V00653'].replace(0, np.nan)).fillna(0)\n",
      "C:\\Users\\rgasi\\AppData\\Local\\Temp\\ipykernel_40488\\271949840.py:40: PerformanceWarning: DataFrame is highly fragmented.  This is usually the result of calling `frame.insert` many times, which has poor performance.  Consider joining all columns at once using pd.concat(axis=1) instead. To get a de-fragmented frame, use `newframe = frame.copy()`\n",
      "  df['perc alfa 65 a 69'] =  df['V00758'].divide(df['V00654'].replace(0, np.nan)).fillna(0)\n",
      "C:\\Users\\rgasi\\AppData\\Local\\Temp\\ipykernel_40488\\271949840.py:41: PerformanceWarning: DataFrame is highly fragmented.  This is usually the result of calling `frame.insert` many times, which has poor performance.  Consider joining all columns at once using pd.concat(axis=1) instead. To get a de-fragmented frame, use `newframe = frame.copy()`\n",
      "  df['perc alfa 70 a 79'] =  df['V00759'].divide(df['V00655'].replace(0, np.nan)).fillna(0)\n",
      "C:\\Users\\rgasi\\AppData\\Local\\Temp\\ipykernel_40488\\271949840.py:42: PerformanceWarning: DataFrame is highly fragmented.  This is usually the result of calling `frame.insert` many times, which has poor performance.  Consider joining all columns at once using pd.concat(axis=1) instead. To get a de-fragmented frame, use `newframe = frame.copy()`\n",
      "  df['perc alfa 80+']     =  df['V00760'].divide(df['V00656'].replace(0, np.nan)).fillna(0)\n",
      "C:\\Users\\rgasi\\AppData\\Local\\Temp\\ipykernel_40488\\271949840.py:43: PerformanceWarning: DataFrame is highly fragmented.  This is usually the result of calling `frame.insert` many times, which has poor performance.  Consider joining all columns at once using pd.concat(axis=1) instead. To get a de-fragmented frame, use `newframe = frame.copy()`\n",
      "  df['perc alfa mean'] = df[['perc alfa 15 a 19', 'perc alfa 20 a 24', 'perc alfa 25 a 29',\n",
      "C:\\Users\\rgasi\\AppData\\Local\\Temp\\ipykernel_40488\\271949840.py:48: PerformanceWarning: DataFrame is highly fragmented.  This is usually the result of calling `frame.insert` many times, which has poor performance.  Consider joining all columns at once using pd.concat(axis=1) instead. To get a de-fragmented frame, use `newframe = frame.copy()`\n",
      "  df['total pop'] = df['V00644'] + df['V00645'] + df['V00646'] + df['V00647'] + df['V00648'] + df['V00649'] + df['V00650'] + df['V00651'] + df['V00652'] + df['V00653'] + df['V00654'] + df['V00655'] + df['V00656']\n"
     ]
    }
   ],
   "execution_count": 44
  },
  {
   "metadata": {},
   "cell_type": "code",
   "outputs": [],
   "execution_count": null,
   "source": "",
   "id": "7ca27f4784c3cd00"
  }
 ],
 "metadata": {
  "kernelspec": {
   "display_name": "Python 3",
   "language": "python",
   "name": "python3"
  },
  "language_info": {
   "codemirror_mode": {
    "name": "ipython",
    "version": 2
   },
   "file_extension": ".py",
   "mimetype": "text/x-python",
   "name": "python",
   "nbconvert_exporter": "python",
   "pygments_lexer": "ipython2",
   "version": "2.7.6"
  }
 },
 "nbformat": 4,
 "nbformat_minor": 5
}
